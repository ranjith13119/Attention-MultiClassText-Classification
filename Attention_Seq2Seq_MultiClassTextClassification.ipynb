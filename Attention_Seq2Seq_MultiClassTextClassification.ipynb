{
  "nbformat": 4,
  "nbformat_minor": 0,
  "metadata": {
    "colab": {
      "name": "Attention-Sqe2Seq-MultiClassTextClassification.ipynb",
      "provenance": [],
      "collapsed_sections": [],
      "mount_file_id": "1sgZGkTUP21V0OI-EDLSnp9nQKSrtFIFV",
      "authorship_tag": "ABX9TyMpPNX02pmbWjhXXCM+sipa",
      "include_colab_link": true
    },
    "kernelspec": {
      "name": "python3",
      "display_name": "Python 3"
    },
    "language_info": {
      "name": "python"
    },
    "accelerator": "GPU"
  },
  "cells": [
    {
      "cell_type": "markdown",
      "metadata": {
        "id": "view-in-github",
        "colab_type": "text"
      },
      "source": [
        "<a href=\"https://colab.research.google.com/github/ranjith13119/Attention-MultiClassText-Classification/blob/main/Attention_Seq2Seq_MultiClassTextClassification.ipynb\" target=\"_parent\"><img src=\"https://colab.research.google.com/assets/colab-badge.svg\" alt=\"Open In Colab\"/></a>"
      ]
    },
    {
      "cell_type": "code",
      "metadata": {
        "colab": {
          "base_uri": "https://localhost:8080/"
        },
        "id": "yDn3gopL8nSN",
        "outputId": "0c03f799-6fb8-4fef-bd82-175cd111cb48"
      },
      "source": [
        "import nltk\n",
        "nltk.download('stopwords')\n",
        "nltk.download('wordnet')\n",
        "import pandas as pd\n",
        "import numpy as np\n",
        "import re\n",
        "from nltk.stem import WordNetLemmatizer\n",
        "from nltk.corpus import stopwords\n",
        "import csv\n",
        "import tensorflow as tf\n",
        "import tensorflow.keras as keras\n",
        "from tensorflow.keras.preprocessing.text import Tokenizer\n",
        "from tensorflow.keras.preprocessing.sequence import pad_sequences\n",
        "from tensorflow.keras.layers import Concatenate, Dense, Input, LSTM, Embedding, Dropout, Activation, GRU, Flatten\n",
        "from tensorflow.keras.layers import Bidirectional, GlobalMaxPool1D\n",
        "from tensorflow.keras.models import Model, Sequential\n",
        "from tensorflow.keras.layers import Convolution1D\n",
        "from tensorflow.keras import initializers, regularizers, constraints, optimizers, layers"
      ],
      "execution_count": 105,
      "outputs": [
        {
          "output_type": "stream",
          "text": [
            "[nltk_data] Downloading package stopwords to /root/nltk_data...\n",
            "[nltk_data]   Package stopwords is already up-to-date!\n",
            "[nltk_data] Downloading package wordnet to /root/nltk_data...\n",
            "[nltk_data]   Package wordnet is already up-to-date!\n"
          ],
          "name": "stdout"
        }
      ]
    },
    {
      "cell_type": "code",
      "metadata": {
        "id": "LALI8XJK9EbY"
      },
      "source": [
        "dataset = pd.read_csv(\"/content/drive/MyDrive/NLP/MultiClass Classification LSTM/bbc-text.csv\")"
      ],
      "execution_count": 106,
      "outputs": []
    },
    {
      "cell_type": "code",
      "metadata": {
        "colab": {
          "base_uri": "https://localhost:8080/",
          "height": 204
        },
        "id": "i4KKNsj99ILW",
        "outputId": "2e462d84-2e28-4301-bb70-3a80d4983237"
      },
      "source": [
        "dataset.head()"
      ],
      "execution_count": 107,
      "outputs": [
        {
          "output_type": "execute_result",
          "data": {
            "text/html": [
              "<div>\n",
              "<style scoped>\n",
              "    .dataframe tbody tr th:only-of-type {\n",
              "        vertical-align: middle;\n",
              "    }\n",
              "\n",
              "    .dataframe tbody tr th {\n",
              "        vertical-align: top;\n",
              "    }\n",
              "\n",
              "    .dataframe thead th {\n",
              "        text-align: right;\n",
              "    }\n",
              "</style>\n",
              "<table border=\"1\" class=\"dataframe\">\n",
              "  <thead>\n",
              "    <tr style=\"text-align: right;\">\n",
              "      <th></th>\n",
              "      <th>category</th>\n",
              "      <th>text</th>\n",
              "    </tr>\n",
              "  </thead>\n",
              "  <tbody>\n",
              "    <tr>\n",
              "      <th>0</th>\n",
              "      <td>tech</td>\n",
              "      <td>tv future in the hands of viewers with home th...</td>\n",
              "    </tr>\n",
              "    <tr>\n",
              "      <th>1</th>\n",
              "      <td>business</td>\n",
              "      <td>worldcom boss  left books alone  former worldc...</td>\n",
              "    </tr>\n",
              "    <tr>\n",
              "      <th>2</th>\n",
              "      <td>sport</td>\n",
              "      <td>tigers wary of farrell  gamble  leicester say ...</td>\n",
              "    </tr>\n",
              "    <tr>\n",
              "      <th>3</th>\n",
              "      <td>sport</td>\n",
              "      <td>yeading face newcastle in fa cup premiership s...</td>\n",
              "    </tr>\n",
              "    <tr>\n",
              "      <th>4</th>\n",
              "      <td>entertainment</td>\n",
              "      <td>ocean s twelve raids box office ocean s twelve...</td>\n",
              "    </tr>\n",
              "  </tbody>\n",
              "</table>\n",
              "</div>"
            ],
            "text/plain": [
              "        category                                               text\n",
              "0           tech  tv future in the hands of viewers with home th...\n",
              "1       business  worldcom boss  left books alone  former worldc...\n",
              "2          sport  tigers wary of farrell  gamble  leicester say ...\n",
              "3          sport  yeading face newcastle in fa cup premiership s...\n",
              "4  entertainment  ocean s twelve raids box office ocean s twelve..."
            ]
          },
          "metadata": {
            "tags": []
          },
          "execution_count": 107
        }
      ]
    },
    {
      "cell_type": "code",
      "metadata": {
        "colab": {
          "base_uri": "https://localhost:8080/"
        },
        "id": "-TygPv0M9hKx",
        "outputId": "a4cb54f2-b74a-4f79-abf9-29d7afaaa5ce"
      },
      "source": [
        "dataset.category.value_counts()"
      ],
      "execution_count": 108,
      "outputs": [
        {
          "output_type": "execute_result",
          "data": {
            "text/plain": [
              "sport            511\n",
              "business         510\n",
              "politics         417\n",
              "tech             401\n",
              "entertainment    386\n",
              "Name: category, dtype: int64"
            ]
          },
          "metadata": {
            "tags": []
          },
          "execution_count": 108
        }
      ]
    },
    {
      "cell_type": "code",
      "metadata": {
        "id": "pcLA-tTH9h--"
      },
      "source": [
        "df = dataset.copy()"
      ],
      "execution_count": 109,
      "outputs": []
    },
    {
      "cell_type": "code",
      "metadata": {
        "id": "wTjcZVZ19rsJ"
      },
      "source": [
        "df.category = df.category.map({ \n",
        "    \"sport\" : 1,\n",
        "    \"business\" : 2,\n",
        "    \"politics\" : 3, \n",
        "    \"tech\" : 4, \n",
        "     \"entertainment\" : 5           \n",
        "})"
      ],
      "execution_count": 110,
      "outputs": []
    },
    {
      "cell_type": "code",
      "metadata": {
        "colab": {
          "base_uri": "https://localhost:8080/",
          "height": 204
        },
        "id": "fA1UWdoP9ruY",
        "outputId": "6fbbeafd-fb4e-47d1-b7fb-2a288934a8f7"
      },
      "source": [
        "df.head()"
      ],
      "execution_count": 111,
      "outputs": [
        {
          "output_type": "execute_result",
          "data": {
            "text/html": [
              "<div>\n",
              "<style scoped>\n",
              "    .dataframe tbody tr th:only-of-type {\n",
              "        vertical-align: middle;\n",
              "    }\n",
              "\n",
              "    .dataframe tbody tr th {\n",
              "        vertical-align: top;\n",
              "    }\n",
              "\n",
              "    .dataframe thead th {\n",
              "        text-align: right;\n",
              "    }\n",
              "</style>\n",
              "<table border=\"1\" class=\"dataframe\">\n",
              "  <thead>\n",
              "    <tr style=\"text-align: right;\">\n",
              "      <th></th>\n",
              "      <th>category</th>\n",
              "      <th>text</th>\n",
              "    </tr>\n",
              "  </thead>\n",
              "  <tbody>\n",
              "    <tr>\n",
              "      <th>0</th>\n",
              "      <td>4</td>\n",
              "      <td>tv future in the hands of viewers with home th...</td>\n",
              "    </tr>\n",
              "    <tr>\n",
              "      <th>1</th>\n",
              "      <td>2</td>\n",
              "      <td>worldcom boss  left books alone  former worldc...</td>\n",
              "    </tr>\n",
              "    <tr>\n",
              "      <th>2</th>\n",
              "      <td>1</td>\n",
              "      <td>tigers wary of farrell  gamble  leicester say ...</td>\n",
              "    </tr>\n",
              "    <tr>\n",
              "      <th>3</th>\n",
              "      <td>1</td>\n",
              "      <td>yeading face newcastle in fa cup premiership s...</td>\n",
              "    </tr>\n",
              "    <tr>\n",
              "      <th>4</th>\n",
              "      <td>5</td>\n",
              "      <td>ocean s twelve raids box office ocean s twelve...</td>\n",
              "    </tr>\n",
              "  </tbody>\n",
              "</table>\n",
              "</div>"
            ],
            "text/plain": [
              "   category                                               text\n",
              "0         4  tv future in the hands of viewers with home th...\n",
              "1         2  worldcom boss  left books alone  former worldc...\n",
              "2         1  tigers wary of farrell  gamble  leicester say ...\n",
              "3         1  yeading face newcastle in fa cup premiership s...\n",
              "4         5  ocean s twelve raids box office ocean s twelve..."
            ]
          },
          "metadata": {
            "tags": []
          },
          "execution_count": 111
        }
      ]
    },
    {
      "cell_type": "code",
      "metadata": {
        "id": "G0-MxARj9rxQ"
      },
      "source": [
        "stop_words = set(stopwords.words(\"english\"))\n",
        "lemmatizer = WordNetLemmatizer()"
      ],
      "execution_count": 112,
      "outputs": []
    },
    {
      "cell_type": "code",
      "metadata": {
        "id": "aFZjgeKH9rz3"
      },
      "source": [
        "def clean_text(text):\n",
        "    '''\n",
        "      This function will return the processed review texts\n",
        "    '''\n",
        "    text = re.sub(r'[^\\w\\s]','',text, re.UNICODE) \n",
        "    text = text.lower()\n",
        "    text = text.replace(' ', '')\n",
        "    text = [lemmatizer.lemmatize(token) for token in text.split(\" \")]\n",
        "    text = [lemmatizer.lemmatize(token, \"v\") for token in text] # find the lemma word\n",
        "    text = [word for word in text if  not word in stop_words] # remove the english stop words\n",
        "    text = \" \".join(text)\n",
        "    return text"
      ],
      "execution_count": 113,
      "outputs": []
    },
    {
      "cell_type": "code",
      "metadata": {
        "id": "34H-uKyV-SPZ"
      },
      "source": [
        "df['preprossed_data'] = df.text.apply(lambda x : clean_text(x))"
      ],
      "execution_count": 114,
      "outputs": []
    },
    {
      "cell_type": "code",
      "metadata": {
        "colab": {
          "base_uri": "https://localhost:8080/"
        },
        "id": "gsMfg_9F-WfD",
        "outputId": "03dc5be8-726a-452f-9c7c-c86694fcd005"
      },
      "source": [
        "df['preprossed_data'].apply(lambda x : len(x.split(\" \"))).mean()"
      ],
      "execution_count": 115,
      "outputs": [
        {
          "output_type": "execute_result",
          "data": {
            "text/plain": [
              "1.0"
            ]
          },
          "metadata": {
            "tags": []
          },
          "execution_count": 115
        }
      ]
    },
    {
      "cell_type": "code",
      "metadata": {
        "id": "PsdFKgV3-Wim"
      },
      "source": [
        "MAX_FEATURES = 6000  # vocab size\n",
        "EMBED_SIZE = 260\n",
        "tokenizer = Tokenizer(num_words=MAX_FEATURES, oov_token='<OOV>')\n",
        "tokenizer.fit_on_texts(df['preprossed_data'])\n",
        "list_tokenized_train = tokenizer.texts_to_sequences(df['preprossed_data']) # convert the text into sequence of token vectors\n",
        "\n",
        "RNN_CELL_SIZE = 32\n",
        "  \n",
        "MAX_LEN = 260  # Since our mean length is 127.98498\n",
        "X = pad_sequences(list_tokenized_train, maxlen=MAX_LEN)\n",
        "y = df['category']\n",
        "\n",
        "from sklearn.model_selection import train_test_split\n",
        "X_train, X_test, y_train, y_test = train_test_split(X, y, test_size = 1/3 ,random_state = 42)"
      ],
      "execution_count": 116,
      "outputs": []
    },
    {
      "cell_type": "code",
      "metadata": {
        "colab": {
          "base_uri": "https://localhost:8080/"
        },
        "id": "9a5UKCjGBAev",
        "outputId": "4fd1c9e5-d176-44f1-ce17-233014c6f3fc"
      },
      "source": [
        "X_test.shape"
      ],
      "execution_count": 117,
      "outputs": [
        {
          "output_type": "execute_result",
          "data": {
            "text/plain": [
              "(742, 260)"
            ]
          },
          "metadata": {
            "tags": []
          },
          "execution_count": 117
        }
      ]
    },
    {
      "cell_type": "code",
      "metadata": {
        "id": "XGg0cPF6-Wli"
      },
      "source": [
        "class Attention(tf.keras.Model):\n",
        "    def __init__(self, units):\n",
        "        super(Attention, self).__init__()\n",
        "        self.W1 = tf.keras.layers.Dense(units) #@eq.4 w1\n",
        "        self.W2 = tf.keras.layers.Dense(units) #@eq.4 w2\n",
        "        self.V = tf.keras.layers.Dense(1)\n",
        "\n",
        "    def call(self, features, hidden):\n",
        "\n",
        "        # we are doing this to perform addition to calculate the score\n",
        "        # expand_dims will not add or reduce elements in a tensor, it just changes the shape by adding 1 to dimensions. \n",
        "        # For example, a vector with 32 elements could be treated as a 32x1 matrix\n",
        "\n",
        "        hidden_with_time_axis = tf.expand_dims(hidden, 1)\n",
        "          \n",
        "        # we get 1 at the last axis because we are applying score to self.V\n",
        "        # the shape of the tensor before applying self.V is (batch_size, max_length, units)\n",
        "\n",
        "        score = tf.nn.tanh( self.W1(features) + self.W2(hidden_with_time_axis)) #@eq.4b\n",
        "        attention_weights = tf.nn.softmax(self.V(score), axis=1) # to make the feedforward weight to 1\n",
        "          \n",
        "        context_vector = attention_weights * features # multiply the wieight with features\n",
        "        context_vector = tf.reduce_sum(context_vector, axis=1)  # calculate all the weight and send it to output\n",
        "        return context_vector, attention_weights"
      ],
      "execution_count": 118,
      "outputs": []
    },
    {
      "cell_type": "code",
      "metadata": {
        "id": "_JESTtry-Woa"
      },
      "source": [
        "sequence_input = Input(shape=(MAX_LEN,), dtype=\"int32\")\n",
        "embedded_sequences = Embedding(MAX_FEATURES, EMBED_SIZE)(sequence_input)"
      ],
      "execution_count": 119,
      "outputs": []
    },
    {
      "cell_type": "code",
      "metadata": {
        "id": "zjvcqAyg-vaS"
      },
      "source": [
        "# Input as a LSTM\n",
        "# rune the bidirectional LSTM with batch size as 32\n",
        "# LSTM1, i'm only returning the sequence of vectors not the state\n",
        "lstm = Bidirectional(LSTM(RNN_CELL_SIZE, return_sequences = True), name=\"bi_lstm_0\")(embedded_sequences)\n",
        "\n",
        "# Getting our LSTM outputs\n",
        "(lstm, forward_h, forward_c, backward_h, backward_c) = Bidirectional(LSTM(RNN_CELL_SIZE, return_sequences=True, return_state=True), name=\"bi_lstm_1\")(lstm)"
      ],
      "execution_count": 120,
      "outputs": []
    },
    {
      "cell_type": "code",
      "metadata": {
        "id": "9YB87SQg-yOX"
      },
      "source": [
        "state_h = Concatenate()([forward_h, backward_h]) # combining both direction outputs\n",
        "state_c = Concatenate()([forward_c, backward_c])  # combining both direction hidden cell states"
      ],
      "execution_count": 121,
      "outputs": []
    },
    {
      "cell_type": "code",
      "metadata": {
        "id": "nCfKZQbm-zyn"
      },
      "source": [
        "# context_vector  -> tokenized context vector from the attension layer\n",
        "# attention_weights -> all the attension weights\n",
        "context_vector, attention_weights = Attention(10)(lstm, state_h) \n",
        "dense1 = Dense(units=64, activation=\"relu\")(context_vector)\n",
        "dropout = Dropout(0.05)(dense1) # adding dropout layer to avoid overfittingmodel = keras.Model(inputs=sequence_input, outputs=output)\n",
        "output = Dense(5, activation='softmax')(dropout) # we are using sigmoid activation function as our output is binary classification"
      ],
      "execution_count": 122,
      "outputs": []
    },
    {
      "cell_type": "code",
      "metadata": {
        "id": "4eXqKTXT-z2x"
      },
      "source": [
        "model = keras.Model(inputs=sequence_input, outputs=output)"
      ],
      "execution_count": 123,
      "outputs": []
    },
    {
      "cell_type": "code",
      "metadata": {
        "colab": {
          "base_uri": "https://localhost:8080/",
          "height": 812
        },
        "id": "r8LMA3ke_KwD",
        "outputId": "4ea97098-8526-46aa-f33a-cb684c40959d"
      },
      "source": [
        "keras.utils.plot_model(model, show_shapes=True, dpi=90)"
      ],
      "execution_count": 124,
      "outputs": [
        {
          "output_type": "execute_result",
          "data": {
            "image/png": "[encoded data removed]",
            "text/plain": [
              "<IPython.core.display.Image object>"
            ]
          },
          "metadata": {
            "tags": []
          },
          "execution_count": 124
        }
      ]
    },
    {
      "cell_type": "code",
      "metadata": {
        "id": "A8LaA383_NLH"
      },
      "source": [
        "model.compile(loss='sparse_categorical_crossentropy',\n",
        "              optimizer='adam',\n",
        "              metrics='accuracy')"
      ],
      "execution_count": 125,
      "outputs": []
    },
    {
      "cell_type": "code",
      "metadata": {
        "colab": {
          "base_uri": "https://localhost:8080/"
        },
        "id": "GAk34b4c_aNh",
        "outputId": "768b889f-9f3f-4053-9c3f-7cd1f0512a2c"
      },
      "source": [
        "X_train.shape , y_train.shape"
      ],
      "execution_count": 126,
      "outputs": [
        {
          "output_type": "execute_result",
          "data": {
            "text/plain": [
              "((1483, 260), (1483,))"
            ]
          },
          "metadata": {
            "tags": []
          },
          "execution_count": 126
        }
      ]
    },
    {
      "cell_type": "code",
      "metadata": {
        "colab": {
          "base_uri": "https://localhost:8080/"
        },
        "id": "tEKcVR7kAPOx",
        "outputId": "f5abb798-c6de-42df-9de3-bfea61333821"
      },
      "source": [
        "y_train.value_counts()"
      ],
      "execution_count": 127,
      "outputs": [
        {
          "output_type": "execute_result",
          "data": {
            "text/plain": [
              "1    351\n",
              "2    328\n",
              "3    290\n",
              "4    258\n",
              "5    256\n",
              "Name: category, dtype: int64"
            ]
          },
          "metadata": {
            "tags": []
          },
          "execution_count": 127
        }
      ]
    },
    {
      "cell_type": "code",
      "metadata": {
        "colab": {
          "base_uri": "https://localhost:8080/"
        },
        "id": "kwCKxO4v_NOY",
        "outputId": "55e2128e-5cd3-4a85-ca51-43ca463950e6"
      },
      "source": [
        "BATCH_SIZE = 100\n",
        "EPOCHS = 100\n",
        "history = model.fit(X_train,y_train,\n",
        "                    batch_size=BATCH_SIZE,\n",
        "                    epochs=EPOCHS,\n",
        "                    validation_split=0.2)"
      ],
      "execution_count": null,
      "outputs": [
        {
          "output_type": "stream",
          "text": [
            "Epoch 1/100\n",
            "12/12 [==============================] - 15s 806ms/step - loss: 1.7058 - accuracy: 0.2201 - val_loss: 1.6218 - val_accuracy: 0.2222\n",
            "Epoch 2/100\n",
            "12/12 [==============================] - 8s 693ms/step - loss: 1.6278 - accuracy: 0.2218 - val_loss: 1.6055 - val_accuracy: 0.2424\n",
            "Epoch 3/100\n",
            "12/12 [==============================] - 8s 685ms/step - loss: 1.6218 - accuracy: 0.2445 - val_loss: 1.6122 - val_accuracy: 0.2222\n",
            "Epoch 4/100\n",
            "12/12 [==============================] - 8s 683ms/step - loss: 1.6152 - accuracy: 0.2344 - val_loss: 1.6037 - val_accuracy: 0.2424\n",
            "Epoch 5/100\n",
            "12/12 [==============================] - 8s 685ms/step - loss: 1.6131 - accuracy: 0.2159 - val_loss: 1.6046 - val_accuracy: 0.2222\n",
            "Epoch 6/100\n",
            " 7/12 [================>.............] - ETA: 3s - loss: 1.6079 - accuracy: 0.2400"
          ],
          "name": "stdout"
        }
      ]
    },
    {
      "cell_type": "code",
      "metadata": {
        "id": "9zKnpOamDAa3"
      },
      "source": [
        "import matplotlib.pyplot as plt"
      ],
      "execution_count": null,
      "outputs": []
    },
    {
      "cell_type": "code",
      "metadata": {
        "id": "5Li5EQ5tDFES"
      },
      "source": [
        "def plot_graphs(history, string):\n",
        "  plt.plot(history.history[string])\n",
        "  plt.plot(history.history['val_'+string])\n",
        "  plt.xlabel(\"Epochs\")\n",
        "  plt.ylabel(string)\n",
        "  plt.legend([string, 'val_'+string])\n",
        "  plt.show()\n",
        "  \n",
        "plot_graphs(history, \"accuracy\")\n",
        "plot_graphs(history, \"loss\")"
      ],
      "execution_count": null,
      "outputs": []
    },
    {
      "cell_type": "code",
      "metadata": {
        "id": "y2M8Q9zZDJov"
      },
      "source": [
        "txt = [\"kennedy questions trust of blair lib dem leader charles kennedy has said voters now have a  fundamental lack of trust  of tony blair as prime minister.  he said backing his party\"]\n",
        "seq = tokenizer.texts_to_sequences(txt)\n",
        "padded = pad_sequences(seq, maxlen=MAX_LEN)\n",
        "pred = model.predict(padded)\n",
        "labels = ['sport', 'bussiness', 'politics', 'tech', 'entertainment']\n",
        "print(pred, labels[np.argmax(pred)-1])\n"
      ],
      "execution_count": null,
      "outputs": []
    }
  ]
}